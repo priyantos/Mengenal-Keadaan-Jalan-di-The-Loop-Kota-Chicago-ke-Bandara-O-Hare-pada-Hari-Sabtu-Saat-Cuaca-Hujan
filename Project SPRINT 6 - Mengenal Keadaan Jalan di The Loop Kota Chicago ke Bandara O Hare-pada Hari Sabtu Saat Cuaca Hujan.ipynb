{
 "cells": [
  {
   "cell_type": "markdown",
   "metadata": {},
   "source": [
    "# Mengenal Situasi Keadaan Jalan di The Loop Kota Chicago ke Bandara O'Hare pada Hari Sabtu Saat Cuaca Hujan"
   ]
  },
  {
   "cell_type": "markdown",
   "metadata": {},
   "source": [
    "**Pendahuluan <a id='intro'></a>**\n",
    "\n",
    "Dalam project ini, saya akan mencoba menganalisa data dan melakukan uji hipotesa untuk mengenal situasi/memahami dan menguji perubahan durasi selama perjalanan dari The Loop (salah satu pusat bisnis) di kota Chicago ke bandara international O'Hare, khususnya pada hari Sabtu saat cuaca hujan. Dengan menganalisa secara terstruktur, saya akan mengeksplorasi data, merumuskan hipotesis, dan melakukan pengujian statistik untuk menentukan apakah perubahan yang signifikan terjadi, dan mengambil kesimpulan berdasarkan temuan saya. Proyek ini bertujuan untuk mengenal/memahami situasi keadaan jalan dari The Loop ke bandara international O'Hare Chicago saat kondisi cuaca hujan terhadap perjalanan menuju bandara dan dapat memberikan insight yang berharga bagi industri transportasi dan pengguna jasa transportasi.\n",
    "\n",
    "**Tujuan:**\n",
    "\n",
    "Project ini merupakan hasil dari SQL yang akan dianalisis menggunakan Python. Tujuan dari proyek ini adalah untuk memahami apakah terdapat perubahan signifikan dalam durasi perjalanan dari Loop ke Bandara Internasional O'Hare saat kondisi cuaca hujan pada hari Sabtu. Project ini bertujuan untuk menguji hipotesis mengenai pengaruh kondisi cuaca terhadap perjalanan ke bandara dan memberikan wawasan yang berguna dalam industri transportasi. \n",
    "\n",
    "\n",
    "Berikut rincian yang akan kita lewati:\n",
    "\n",
    "*Tahapan yang Dilakukan*\n",
    "\n",
    "**Langkah 1: Insialisasi**\n",
    "\n",
    "- Memanggil data library yang dibutuhkan\n",
    "\n",
    "  -# *List library yang digunakan*\n",
    "  \n",
    "     * import pandas as pd\n",
    "     * import matplotlib.pyplot as plt\n",
    "     * import seaborn as sns\n",
    "     * import numpy as np\n",
    "     * from datetime import datetime, timedelta\n",
    "     * from scipy import stats\n",
    "     * from scipy.stats import levene, shapiro, ttest_ind, mannwhitneyu\n",
    "     \n",
    "\n",
    "**Langkah 2: Memuat Dataset**\n",
    "\n",
    "**2.1. Analisis data eksposure (Python) dengan memuat dataset: `/datasets/project_sql_result_01.csv` dan `/datasets/project_sql_result_04.csv`.**\n",
    "\n",
    "* Ada beberapa Sub Tahapan :\n",
    "\n",
    "  **2.1.1. Mempelajari isi data**\n",
    "  \n",
    "  **2.1.2. Memastikan tipe datanya sudah benar**\n",
    "  \n",
    "  **2.1.3. Mengindentifikasi 10 wilayah teratas yang dijadikan sebagai titik pengantaran**\n",
    "  \n",
    "  **2.1.4. Membuat grafik untuk perusahaan taksi & jumlah perjalanannya, dan 10 wilayah teratas berdasarkan jumlah pengantaran**\n",
    "  \n",
    "  **2.1.5. Menarik kesimpulan berdasarkan grafik yang sudah dibuat dan menjelaskan hasilnya**\n",
    "  \n",
    "  \n",
    "**2.2. Menguji hipotesis (Python) dengan memuat dataset: `/datasets/project_sql_result_07.csv`**\n",
    "\n",
    "**Langkah 3: Kesimpulan Umum**\n",
    "\n",
    "**Deskripsi Data**\n",
    "\n",
    "**Tabel `project_sql_result_01`:**\n",
    "- company_name — (nama perusahaan taksi)\n",
    "- trips_amount — (jumlah perjalanan untuk setiap perusahaan taksi pada tanggal 15-16 November 2017)\n",
    "\n",
    "**Tabel `project_sql_result_04`:**\n",
    "- dropoff_location_name — (nama wilayah di Chicago tempat perjalanan berakhir)\n",
    "- average_trips — (jumlah rata-rata perjalanan yang berakhir di setiap wilayah pada bulan November 2017)\n",
    "\n",
    "\n",
    "**Tabel `project_sql_result_07`:**\n",
    "- start_ts — (tanggal dan waktu penjemputan)\n",
    "- weather_conditions — (kondisi cuaca saat perjalanan dimulai)\n",
    "- duration_seconds — (durasi perjalanan dalam satuan detik)\n"
   ]
  },
  {
   "cell_type": "markdown",
   "metadata": {},
   "source": [
    "## Inisialisasi\n",
    "\n",
    "Mari kita muat library yang kita butuhkan."
   ]
  },
  {
   "cell_type": "code",
   "execution_count": 1,
   "metadata": {},
   "outputs": [],
   "source": [
    "# Muat semua library\n",
    "import pandas as pd\n",
    "import matplotlib.pyplot as plt\n",
    "import numpy as np\n",
    "import seaborn as sns\n",
    "from datetime import datetime, timedelta\n",
    "from scipy import stats\n",
    "from scipy.stats import levene,  shapiro, ttest_ind, mannwhitneyu"
   ]
  },
  {
   "cell_type": "markdown",
   "metadata": {},
   "source": [
    "## Memuat Data\n",
    "\n",
    "Berdasarkan permintaan, berikut dataset yang akan kita analisa:"
   ]
  },
  {
   "cell_type": "code",
   "execution_count": 2,
   "metadata": {},
   "outputs": [],
   "source": [
    "# Memuat dataset yang akan kita gunakan\n",
    "exposure01 = pd.read_csv('/datasets/project_sql_result_01.csv')\n",
    "exposure02 = pd.read_csv('/datasets/project_sql_result_04.csv')\n",
    "predictive_analytics = pd.read_csv('/datasets/project_sql_result_07.csv')"
   ]
  },
  {
   "cell_type": "markdown",
   "metadata": {},
   "source": [
    "# **2.1. Beberapa Sub Tahapan** "
   ]
  },
  {
   "cell_type": "markdown",
   "metadata": {},
   "source": [
    "# **2.1.1. Mempelajari Isi Data** \n",
    "\n",
    "Kita akan melihat isi dari kedua dataset exposure01 dan exposure02. Mari kita tampilkan jumlah data yang dimiliki serta informasi yang akan kita tinjau."
   ]
  },
  {
   "cell_type": "code",
   "execution_count": 3,
   "metadata": {},
   "outputs": [
    {
     "name": "stdout",
     "output_type": "stream",
     "text": [
      "<class 'pandas.core.frame.DataFrame'>\n",
      "RangeIndex: 64 entries, 0 to 63\n",
      "Data columns (total 2 columns):\n",
      " #   Column        Non-Null Count  Dtype \n",
      "---  ------        --------------  ----- \n",
      " 0   company_name  64 non-null     object\n",
      " 1   trips_amount  64 non-null     int64 \n",
      "dtypes: int64(1), object(1)\n",
      "memory usage: 1.1+ KB\n"
     ]
    }
   ],
   "source": [
    "# Menampilkan informasi hasil project_sql_result_01\n",
    "exposure01.info()"
   ]
  },
  {
   "cell_type": "code",
   "execution_count": 4,
   "metadata": {},
   "outputs": [
    {
     "name": "stdout",
     "output_type": "stream",
     "text": [
      "<class 'pandas.core.frame.DataFrame'>\n",
      "RangeIndex: 94 entries, 0 to 93\n",
      "Data columns (total 2 columns):\n",
      " #   Column                 Non-Null Count  Dtype  \n",
      "---  ------                 --------------  -----  \n",
      " 0   dropoff_location_name  94 non-null     object \n",
      " 1   average_trips          94 non-null     float64\n",
      "dtypes: float64(1), object(1)\n",
      "memory usage: 1.6+ KB\n"
     ]
    }
   ],
   "source": [
    "# Menampilkan informasi hasil project_sql_result_04\n",
    "exposure02.info()"
   ]
  },
  {
   "cell_type": "code",
   "execution_count": 5,
   "metadata": {},
   "outputs": [
    {
     "name": "stdout",
     "output_type": "stream",
     "text": [
      "<class 'pandas.core.frame.DataFrame'>\n",
      "RangeIndex: 1068 entries, 0 to 1067\n",
      "Data columns (total 3 columns):\n",
      " #   Column              Non-Null Count  Dtype  \n",
      "---  ------              --------------  -----  \n",
      " 0   start_ts            1068 non-null   object \n",
      " 1   weather_conditions  1068 non-null   object \n",
      " 2   duration_seconds    1068 non-null   float64\n",
      "dtypes: float64(1), object(2)\n",
      "memory usage: 25.2+ KB\n"
     ]
    }
   ],
   "source": [
    "# Menampilkan informasi hasil project_sql_result_07\n",
    "predictive_analytics.info()"
   ]
  },
  {
   "cell_type": "markdown",
   "metadata": {},
   "source": [
    "**Temuan**\n",
    "\n",
    "Tidak ada nilai yang hilang dan duplikasi data dari informasi yang tersedia."
   ]
  },
  {
   "cell_type": "code",
   "execution_count": 6,
   "metadata": {},
   "outputs": [
    {
     "data": {
      "text/html": [
       "<div>\n",
       "<style scoped>\n",
       "    .dataframe tbody tr th:only-of-type {\n",
       "        vertical-align: middle;\n",
       "    }\n",
       "\n",
       "    .dataframe tbody tr th {\n",
       "        vertical-align: top;\n",
       "    }\n",
       "\n",
       "    .dataframe thead th {\n",
       "        text-align: right;\n",
       "    }\n",
       "</style>\n",
       "<table border=\"1\" class=\"dataframe\">\n",
       "  <thead>\n",
       "    <tr style=\"text-align: right;\">\n",
       "      <th></th>\n",
       "      <th>company_name</th>\n",
       "      <th>trips_amount</th>\n",
       "    </tr>\n",
       "  </thead>\n",
       "  <tbody>\n",
       "    <tr>\n",
       "      <th>0</th>\n",
       "      <td>Flash Cab</td>\n",
       "      <td>19558</td>\n",
       "    </tr>\n",
       "    <tr>\n",
       "      <th>1</th>\n",
       "      <td>Taxi Affiliation Services</td>\n",
       "      <td>11422</td>\n",
       "    </tr>\n",
       "    <tr>\n",
       "      <th>2</th>\n",
       "      <td>Medallion Leasing</td>\n",
       "      <td>10367</td>\n",
       "    </tr>\n",
       "    <tr>\n",
       "      <th>3</th>\n",
       "      <td>Yellow Cab</td>\n",
       "      <td>9888</td>\n",
       "    </tr>\n",
       "    <tr>\n",
       "      <th>4</th>\n",
       "      <td>Taxi Affiliation Service Yellow</td>\n",
       "      <td>9299</td>\n",
       "    </tr>\n",
       "  </tbody>\n",
       "</table>\n",
       "</div>"
      ],
      "text/plain": [
       "                      company_name  trips_amount\n",
       "0                        Flash Cab         19558\n",
       "1        Taxi Affiliation Services         11422\n",
       "2                Medallion Leasing         10367\n",
       "3                       Yellow Cab          9888\n",
       "4  Taxi Affiliation Service Yellow          9299"
      ]
     },
     "execution_count": 6,
     "metadata": {},
     "output_type": "execute_result"
    }
   ],
   "source": [
    "# Menampilkan data hasil project_sql_result_01\n",
    "exposure01.head()"
   ]
  },
  {
   "cell_type": "code",
   "execution_count": 7,
   "metadata": {},
   "outputs": [
    {
     "data": {
      "text/html": [
       "<div>\n",
       "<style scoped>\n",
       "    .dataframe tbody tr th:only-of-type {\n",
       "        vertical-align: middle;\n",
       "    }\n",
       "\n",
       "    .dataframe tbody tr th {\n",
       "        vertical-align: top;\n",
       "    }\n",
       "\n",
       "    .dataframe thead th {\n",
       "        text-align: right;\n",
       "    }\n",
       "</style>\n",
       "<table border=\"1\" class=\"dataframe\">\n",
       "  <thead>\n",
       "    <tr style=\"text-align: right;\">\n",
       "      <th></th>\n",
       "      <th>dropoff_location_name</th>\n",
       "      <th>average_trips</th>\n",
       "    </tr>\n",
       "  </thead>\n",
       "  <tbody>\n",
       "    <tr>\n",
       "      <th>0</th>\n",
       "      <td>Loop</td>\n",
       "      <td>10727.466667</td>\n",
       "    </tr>\n",
       "    <tr>\n",
       "      <th>1</th>\n",
       "      <td>River North</td>\n",
       "      <td>9523.666667</td>\n",
       "    </tr>\n",
       "    <tr>\n",
       "      <th>2</th>\n",
       "      <td>Streeterville</td>\n",
       "      <td>6664.666667</td>\n",
       "    </tr>\n",
       "    <tr>\n",
       "      <th>3</th>\n",
       "      <td>West Loop</td>\n",
       "      <td>5163.666667</td>\n",
       "    </tr>\n",
       "    <tr>\n",
       "      <th>4</th>\n",
       "      <td>O'Hare</td>\n",
       "      <td>2546.900000</td>\n",
       "    </tr>\n",
       "  </tbody>\n",
       "</table>\n",
       "</div>"
      ],
      "text/plain": [
       "  dropoff_location_name  average_trips\n",
       "0                  Loop   10727.466667\n",
       "1           River North    9523.666667\n",
       "2         Streeterville    6664.666667\n",
       "3             West Loop    5163.666667\n",
       "4                O'Hare    2546.900000"
      ]
     },
     "execution_count": 7,
     "metadata": {},
     "output_type": "execute_result"
    }
   ],
   "source": [
    "# Menampilkan data hasil project_sql_result_04\n",
    "exposure02.head()"
   ]
  },
  {
   "cell_type": "code",
   "execution_count": 8,
   "metadata": {},
   "outputs": [
    {
     "data": {
      "text/html": [
       "<div>\n",
       "<style scoped>\n",
       "    .dataframe tbody tr th:only-of-type {\n",
       "        vertical-align: middle;\n",
       "    }\n",
       "\n",
       "    .dataframe tbody tr th {\n",
       "        vertical-align: top;\n",
       "    }\n",
       "\n",
       "    .dataframe thead th {\n",
       "        text-align: right;\n",
       "    }\n",
       "</style>\n",
       "<table border=\"1\" class=\"dataframe\">\n",
       "  <thead>\n",
       "    <tr style=\"text-align: right;\">\n",
       "      <th></th>\n",
       "      <th>start_ts</th>\n",
       "      <th>weather_conditions</th>\n",
       "      <th>duration_seconds</th>\n",
       "    </tr>\n",
       "  </thead>\n",
       "  <tbody>\n",
       "    <tr>\n",
       "      <th>0</th>\n",
       "      <td>2017-11-25 16:00:00</td>\n",
       "      <td>Good</td>\n",
       "      <td>2410.0</td>\n",
       "    </tr>\n",
       "    <tr>\n",
       "      <th>1</th>\n",
       "      <td>2017-11-25 14:00:00</td>\n",
       "      <td>Good</td>\n",
       "      <td>1920.0</td>\n",
       "    </tr>\n",
       "    <tr>\n",
       "      <th>2</th>\n",
       "      <td>2017-11-25 12:00:00</td>\n",
       "      <td>Good</td>\n",
       "      <td>1543.0</td>\n",
       "    </tr>\n",
       "    <tr>\n",
       "      <th>3</th>\n",
       "      <td>2017-11-04 10:00:00</td>\n",
       "      <td>Good</td>\n",
       "      <td>2512.0</td>\n",
       "    </tr>\n",
       "    <tr>\n",
       "      <th>4</th>\n",
       "      <td>2017-11-11 07:00:00</td>\n",
       "      <td>Good</td>\n",
       "      <td>1440.0</td>\n",
       "    </tr>\n",
       "  </tbody>\n",
       "</table>\n",
       "</div>"
      ],
      "text/plain": [
       "              start_ts weather_conditions  duration_seconds\n",
       "0  2017-11-25 16:00:00               Good            2410.0\n",
       "1  2017-11-25 14:00:00               Good            1920.0\n",
       "2  2017-11-25 12:00:00               Good            1543.0\n",
       "3  2017-11-04 10:00:00               Good            2512.0\n",
       "4  2017-11-11 07:00:00               Good            1440.0"
      ]
     },
     "execution_count": 8,
     "metadata": {},
     "output_type": "execute_result"
    }
   ],
   "source": [
    "# Menampilkan data hasil project_sql_result_07\n",
    "predictive_analytics.head()"
   ]
  },
  {
   "cell_type": "markdown",
   "metadata": {},
   "source": [
    "**Kesimpulan Sementara**\n",
    "\n",
    "Semua data untuk saat ini tidak ada yang hilang, tidak ditemukan nilai yang kosong."
   ]
  },
  {
   "cell_type": "markdown",
   "metadata": {},
   "source": [
    "# **2.1.2. Memastikan Tipe Datanya Sudah Benar** \n",
    "\n",
    "Kita akan periksa kembali tipe data yang ada"
   ]
  },
  {
   "cell_type": "code",
   "execution_count": 9,
   "metadata": {},
   "outputs": [
    {
     "name": "stdout",
     "output_type": "stream",
     "text": [
      "<class 'pandas.core.frame.DataFrame'>\n",
      "RangeIndex: 64 entries, 0 to 63\n",
      "Data columns (total 2 columns):\n",
      " #   Column        Non-Null Count  Dtype \n",
      "---  ------        --------------  ----- \n",
      " 0   company_name  64 non-null     object\n",
      " 1   trips_amount  64 non-null     int16 \n",
      "dtypes: int16(1), object(1)\n",
      "memory usage: 768.0+ bytes\n"
     ]
    }
   ],
   "source": [
    "# Merubah tipe data kolom trips_amount menjadi int16 supaya hemat memori\n",
    "exposure01['trips_amount'] = exposure01['trips_amount'].astype('int16')\n",
    "exposure01.info()"
   ]
  },
  {
   "cell_type": "code",
   "execution_count": 10,
   "metadata": {},
   "outputs": [
    {
     "name": "stdout",
     "output_type": "stream",
     "text": [
      "<class 'pandas.core.frame.DataFrame'>\n",
      "RangeIndex: 64 entries, 0 to 63\n",
      "Data columns (total 2 columns):\n",
      " #   Column        Non-Null Count  Dtype \n",
      "---  ------        --------------  ----- \n",
      " 0   company_name  64 non-null     object\n",
      " 1   trips_amount  64 non-null     int16 \n",
      "dtypes: int16(1), object(1)\n",
      "memory usage: 768.0+ bytes\n",
      "\n",
      "Missing Value :  \n",
      " company_name    0\n",
      "trips_amount    0\n",
      "dtype: int64\n",
      "\n",
      "Duplicate : \n",
      " 0\n"
     ]
    }
   ],
   "source": [
    "# Menampilkan informasi hasil project_sql_result_01\n",
    "exposure01.info()\n",
    "print('\\nMissing Value :  \\n', exposure01.isnull().sum())\n",
    "print('\\nDuplicate : \\n', exposure01.duplicated().sum())"
   ]
  },
  {
   "cell_type": "code",
   "execution_count": 11,
   "metadata": {},
   "outputs": [
    {
     "name": "stdout",
     "output_type": "stream",
     "text": [
      "<class 'pandas.core.frame.DataFrame'>\n",
      "RangeIndex: 94 entries, 0 to 93\n",
      "Data columns (total 2 columns):\n",
      " #   Column                 Non-Null Count  Dtype  \n",
      "---  ------                 --------------  -----  \n",
      " 0   dropoff_location_name  94 non-null     object \n",
      " 1   average_trips          94 non-null     float16\n",
      "dtypes: float16(1), object(1)\n",
      "memory usage: 1.0+ KB\n"
     ]
    }
   ],
   "source": [
    "# Merubah tipe data kolom average_trips menjadi float16 supaya hemat memori\n",
    "exposure02['average_trips'] = exposure02['average_trips'].astype('float16')\n",
    "exposure02.info()"
   ]
  },
  {
   "cell_type": "code",
   "execution_count": 12,
   "metadata": {},
   "outputs": [
    {
     "name": "stdout",
     "output_type": "stream",
     "text": [
      "<class 'pandas.core.frame.DataFrame'>\n",
      "RangeIndex: 94 entries, 0 to 93\n",
      "Data columns (total 2 columns):\n",
      " #   Column                 Non-Null Count  Dtype  \n",
      "---  ------                 --------------  -----  \n",
      " 0   dropoff_location_name  94 non-null     object \n",
      " 1   average_trips          94 non-null     float16\n",
      "dtypes: float16(1), object(1)\n",
      "memory usage: 1.0+ KB\n",
      "\n",
      "Missing Value :  \n",
      " dropoff_location_name    0\n",
      "average_trips            0\n",
      "dtype: int64\n",
      "\n",
      "Duplicate : \n",
      " 0\n"
     ]
    }
   ],
   "source": [
    "# Menampilkan informasi hasil project_sql_result_04\n",
    "exposure02.info()\n",
    "print('\\nMissing Value :  \\n', exposure02.isnull().sum())\n",
    "print('\\nDuplicate : \\n', exposure02.duplicated().sum())"
   ]
  },
  {
   "cell_type": "code",
   "execution_count": 13,
   "metadata": {},
   "outputs": [
    {
     "name": "stdout",
     "output_type": "stream",
     "text": [
      "<class 'pandas.core.frame.DataFrame'>\n",
      "RangeIndex: 1068 entries, 0 to 1067\n",
      "Data columns (total 3 columns):\n",
      " #   Column              Non-Null Count  Dtype \n",
      "---  ------              --------------  ----- \n",
      " 0   start_ts            1068 non-null   object\n",
      " 1   weather_conditions  1068 non-null   object\n",
      " 2   duration_seconds    1068 non-null   int16 \n",
      "dtypes: int16(1), object(2)\n",
      "memory usage: 18.9+ KB\n"
     ]
    }
   ],
   "source": [
    "# Merubah tipe data kolom duration_seconds menjadi int16 supaya hemat memori\n",
    "predictive_analytics['duration_seconds'] = predictive_analytics['duration_seconds'].astype('int16')\n",
    "predictive_analytics.info()"
   ]
  },
  {
   "cell_type": "code",
   "execution_count": 14,
   "metadata": {},
   "outputs": [
    {
     "name": "stdout",
     "output_type": "stream",
     "text": [
      "<class 'pandas.core.frame.DataFrame'>\n",
      "RangeIndex: 1068 entries, 0 to 1067\n",
      "Data columns (total 3 columns):\n",
      " #   Column              Non-Null Count  Dtype         \n",
      "---  ------              --------------  -----         \n",
      " 0   start_ts            1068 non-null   datetime64[ns]\n",
      " 1   weather_conditions  1068 non-null   object        \n",
      " 2   duration_seconds    1068 non-null   int16         \n",
      "dtypes: datetime64[ns](1), int16(1), object(1)\n",
      "memory usage: 18.9+ KB\n"
     ]
    }
   ],
   "source": [
    "# Merubah tipe data kolom start_ts\n",
    "predictive_analytics['start_ts'] = pd.to_datetime(predictive_analytics['start_ts'])\n",
    "predictive_analytics.info()"
   ]
  },
  {
   "cell_type": "code",
   "execution_count": 15,
   "metadata": {},
   "outputs": [
    {
     "name": "stdout",
     "output_type": "stream",
     "text": [
      "<class 'pandas.core.frame.DataFrame'>\n",
      "RangeIndex: 1068 entries, 0 to 1067\n",
      "Data columns (total 3 columns):\n",
      " #   Column              Non-Null Count  Dtype         \n",
      "---  ------              --------------  -----         \n",
      " 0   start_ts            1068 non-null   datetime64[ns]\n",
      " 1   weather_conditions  1068 non-null   object        \n",
      " 2   duration_seconds    1068 non-null   int16         \n",
      "dtypes: datetime64[ns](1), int16(1), object(1)\n",
      "memory usage: 18.9+ KB\n",
      "\n",
      "Missing Value :  \n",
      " start_ts              0\n",
      "weather_conditions    0\n",
      "duration_seconds      0\n",
      "dtype: int64\n",
      "\n",
      "Duplicate : \n",
      " 197\n"
     ]
    }
   ],
   "source": [
    "# Menampilkan informasi hasil project_sql_result_07\n",
    "predictive_analytics.info()\n",
    "print('\\nMissing Value :  \\n', predictive_analytics.isnull().sum())\n",
    "print('\\nDuplicate : \\n', predictive_analytics.duplicated().sum())"
   ]
  },
  {
   "cell_type": "markdown",
   "metadata": {},
   "source": [
    "**Kesimpulan Sementara**\n",
    "\n",
    "Saat ini tipe data sudah sesuai tidak ada yang harus dirubah. Mari kita analisa lebih lanjut."
   ]
  },
  {
   "cell_type": "markdown",
   "metadata": {},
   "source": [
    "# **2.1.3. Mengindentifikasi 10 Wilayah Teratas Yang Dijadikan Sebagai Titik Pengantaran**\n",
    "\n",
    "Kita akan identifikasikan 10 wilayah dengan dataset yang kita tentukan yang bervariable exposure01 dan exposure02."
   ]
  },
  {
   "cell_type": "code",
   "execution_count": 16,
   "metadata": {},
   "outputs": [
    {
     "data": {
      "text/html": [
       "<div>\n",
       "<style scoped>\n",
       "    .dataframe tbody tr th:only-of-type {\n",
       "        vertical-align: middle;\n",
       "    }\n",
       "\n",
       "    .dataframe tbody tr th {\n",
       "        vertical-align: top;\n",
       "    }\n",
       "\n",
       "    .dataframe thead th {\n",
       "        text-align: right;\n",
       "    }\n",
       "</style>\n",
       "<table border=\"1\" class=\"dataframe\">\n",
       "  <thead>\n",
       "    <tr style=\"text-align: right;\">\n",
       "      <th></th>\n",
       "      <th>company_name</th>\n",
       "      <th>trips_amount</th>\n",
       "    </tr>\n",
       "  </thead>\n",
       "  <tbody>\n",
       "    <tr>\n",
       "      <th>0</th>\n",
       "      <td>Flash Cab</td>\n",
       "      <td>19558</td>\n",
       "    </tr>\n",
       "    <tr>\n",
       "      <th>1</th>\n",
       "      <td>Taxi Affiliation Services</td>\n",
       "      <td>11422</td>\n",
       "    </tr>\n",
       "    <tr>\n",
       "      <th>2</th>\n",
       "      <td>Medallion Leasing</td>\n",
       "      <td>10367</td>\n",
       "    </tr>\n",
       "    <tr>\n",
       "      <th>3</th>\n",
       "      <td>Yellow Cab</td>\n",
       "      <td>9888</td>\n",
       "    </tr>\n",
       "    <tr>\n",
       "      <th>4</th>\n",
       "      <td>Taxi Affiliation Service Yellow</td>\n",
       "      <td>9299</td>\n",
       "    </tr>\n",
       "    <tr>\n",
       "      <th>5</th>\n",
       "      <td>Chicago Carriage Cab Corp</td>\n",
       "      <td>9181</td>\n",
       "    </tr>\n",
       "    <tr>\n",
       "      <th>6</th>\n",
       "      <td>City Service</td>\n",
       "      <td>8448</td>\n",
       "    </tr>\n",
       "    <tr>\n",
       "      <th>7</th>\n",
       "      <td>Sun Taxi</td>\n",
       "      <td>7701</td>\n",
       "    </tr>\n",
       "    <tr>\n",
       "      <th>8</th>\n",
       "      <td>Star North Management LLC</td>\n",
       "      <td>7455</td>\n",
       "    </tr>\n",
       "    <tr>\n",
       "      <th>9</th>\n",
       "      <td>Blue Ribbon Taxi Association Inc.</td>\n",
       "      <td>5953</td>\n",
       "    </tr>\n",
       "  </tbody>\n",
       "</table>\n",
       "</div>"
      ],
      "text/plain": [
       "                        company_name  trips_amount\n",
       "0                          Flash Cab         19558\n",
       "1          Taxi Affiliation Services         11422\n",
       "2                  Medallion Leasing         10367\n",
       "3                         Yellow Cab          9888\n",
       "4    Taxi Affiliation Service Yellow          9299\n",
       "5          Chicago Carriage Cab Corp          9181\n",
       "6                       City Service          8448\n",
       "7                           Sun Taxi          7701\n",
       "8          Star North Management LLC          7455\n",
       "9  Blue Ribbon Taxi Association Inc.          5953"
      ]
     },
     "execution_count": 16,
     "metadata": {},
     "output_type": "execute_result"
    }
   ],
   "source": [
    "# Mengindentifikasi 10 Wilayah teratas sbg titik pengantaran\n",
    "top10_company = exposure01.sort_values(by='trips_amount', ascending=False)[:10]\n",
    "top10_company"
   ]
  },
  {
   "cell_type": "code",
   "execution_count": 17,
   "metadata": {},
   "outputs": [
    {
     "data": {
      "text/html": [
       "<div>\n",
       "<style scoped>\n",
       "    .dataframe tbody tr th:only-of-type {\n",
       "        vertical-align: middle;\n",
       "    }\n",
       "\n",
       "    .dataframe tbody tr th {\n",
       "        vertical-align: top;\n",
       "    }\n",
       "\n",
       "    .dataframe thead th {\n",
       "        text-align: right;\n",
       "    }\n",
       "</style>\n",
       "<table border=\"1\" class=\"dataframe\">\n",
       "  <thead>\n",
       "    <tr style=\"text-align: right;\">\n",
       "      <th></th>\n",
       "      <th>dropoff_location_name</th>\n",
       "      <th>average_trips</th>\n",
       "    </tr>\n",
       "  </thead>\n",
       "  <tbody>\n",
       "    <tr>\n",
       "      <th>0</th>\n",
       "      <td>Loop</td>\n",
       "      <td>10728.0</td>\n",
       "    </tr>\n",
       "    <tr>\n",
       "      <th>1</th>\n",
       "      <td>River North</td>\n",
       "      <td>9520.0</td>\n",
       "    </tr>\n",
       "    <tr>\n",
       "      <th>2</th>\n",
       "      <td>Streeterville</td>\n",
       "      <td>6664.0</td>\n",
       "    </tr>\n",
       "    <tr>\n",
       "      <th>3</th>\n",
       "      <td>West Loop</td>\n",
       "      <td>5164.0</td>\n",
       "    </tr>\n",
       "    <tr>\n",
       "      <th>4</th>\n",
       "      <td>O'Hare</td>\n",
       "      <td>2546.0</td>\n",
       "    </tr>\n",
       "    <tr>\n",
       "      <th>5</th>\n",
       "      <td>Lake View</td>\n",
       "      <td>2420.0</td>\n",
       "    </tr>\n",
       "    <tr>\n",
       "      <th>6</th>\n",
       "      <td>Grant Park</td>\n",
       "      <td>2068.0</td>\n",
       "    </tr>\n",
       "    <tr>\n",
       "      <th>7</th>\n",
       "      <td>Museum Campus</td>\n",
       "      <td>1510.0</td>\n",
       "    </tr>\n",
       "    <tr>\n",
       "      <th>8</th>\n",
       "      <td>Gold Coast</td>\n",
       "      <td>1364.0</td>\n",
       "    </tr>\n",
       "    <tr>\n",
       "      <th>9</th>\n",
       "      <td>Sheffield &amp; DePaul</td>\n",
       "      <td>1260.0</td>\n",
       "    </tr>\n",
       "  </tbody>\n",
       "</table>\n",
       "</div>"
      ],
      "text/plain": [
       "  dropoff_location_name  average_trips\n",
       "0                  Loop        10728.0\n",
       "1           River North         9520.0\n",
       "2         Streeterville         6664.0\n",
       "3             West Loop         5164.0\n",
       "4                O'Hare         2546.0\n",
       "5             Lake View         2420.0\n",
       "6            Grant Park         2068.0\n",
       "7         Museum Campus         1510.0\n",
       "8            Gold Coast         1364.0\n",
       "9    Sheffield & DePaul         1260.0"
      ]
     },
     "execution_count": 17,
     "metadata": {},
     "output_type": "execute_result"
    }
   ],
   "source": [
    "# Mengindentifikasi 10 Wilayah teratas sbg titik pengantaran\n",
    "top10_droppoff = exposure02.sort_values(by='average_trips', ascending=False)[:10]\n",
    "top10_droppoff"
   ]
  },
  {
   "cell_type": "markdown",
   "metadata": {},
   "source": [
    "# **2.1.4. Membuat grafik untuk perusahaan taksi & jumlah perjalanannya, dan 10 wilayah teratas berdasarkan jumlah pengantaran**"
   ]
  },
  {
   "cell_type": "markdown",
   "metadata": {},
   "source": [
    "**10 Wilayah Teratas Untuk Dataset exposure01**"
   ]
  },
  {
   "cell_type": "code",
   "execution_count": 18,
   "metadata": {},
   "outputs": [
    {
     "data": {
      "image/png": "[encoded data removed]",
      "text/plain": [
       "<Figure size 1200x600 with 1 Axes>"
      ]
     },
     "metadata": {},
     "output_type": "display_data"
    }
   ],
   "source": [
    "# Pilih 10 perusahaan taksi teratas\n",
    "# topten_region = exposure01.head(10)\n",
    "top10_company\n",
    "\n",
    "# Atur gaya plot dengan Seaborn\n",
    "sns.set(style=\"darkgrid\")\n",
    "\n",
    "# Membuat grafik batang dengan palet \"coolwarm\" dari Seaborn\n",
    "plt.figure(figsize=(12, 6))\n",
    "sns.barplot(x='trips_amount', y='company_name', data=top10_company, palette='coolwarm')\n",
    "plt.title(\"Jumlah Perjalanan per Perusahaan Taksi (10 Teratas)\")\n",
    "plt.xlabel('Jumlah Perjalanan (Pada tanggal 15-16 November 2017)')\n",
    "plt.ylabel('Perusahaan Taksi')\n",
    "plt.show()"
   ]
  },
  {
   "cell_type": "markdown",
   "metadata": {},
   "source": [
    "**10 Wilayah Teratas Untuk Dataset exposure02**"
   ]
  },
  {
   "cell_type": "code",
   "execution_count": 19,
   "metadata": {},
   "outputs": [
    {
     "data": {
      "image/png": "[encoded data removed]",
      "text/plain": [
       "<Figure size 1200x600 with 1 Axes>"
      ]
     },
     "metadata": {},
     "output_type": "display_data"
    }
   ],
   "source": [
    "# Pilih 10 wilayah teratas\n",
    "# top_10_locations = exposure02.head(10)\n",
    "top10_droppoff\n",
    "\n",
    "# Atur gaya plot dengan Seaborn\n",
    "sns.set(style=\"darkgrid\")\n",
    "\n",
    "# Membuat grafik batang dengan palet \"coolwarm\" dari Seaborn\n",
    "plt.figure(figsize=(12, 6))\n",
    "ax = sns.barplot(x='average_trips', y='dropoff_location_name', data=top10_droppoff, palette='coolwarm')\n",
    "plt.title(\"Jumlah Perjalanan per Wilayah Pengantaran (10 Teratas)\")\n",
    "plt.xlabel('Rata-Rata Perjalanan yang Berakhir di Setiap Wilayah pada Bulan November 2017')\n",
    "plt.ylabel('Wilayah Pengantaran')\n",
    "plt.show()"
   ]
  },
  {
   "cell_type": "markdown",
   "metadata": {},
   "source": [
    "# **2.1.5. Menarik kesimpulan berdasarkan grafik yang sudah dibuat dan menjelaskan hasilnya**"
   ]
  },
  {
   "cell_type": "markdown",
   "metadata": {},
   "source": [
    "**Kesimpulan Sementara**\n",
    "\n",
    "Jumlah Perjalanan pada tanggal 15-16 November 2017 di 10 teratas adalah:\n",
    "\n",
    "1.  Flash Cab\n",
    "2.  Taxi Affiliation Services\n",
    "3.  Medallion Leasing\n",
    "4.  Yellow Cab\n",
    "5.  Taxi Affiliation Service Yellow\n",
    "6.  Chicago Carriage Cab Corp\n",
    "7.  City Service\n",
    "8.  Sun Taxi\n",
    "9.  Star North Management LLC\n",
    "10. Blue Ribbon Taxi Association Inc."
   ]
  },
  {
   "cell_type": "markdown",
   "metadata": {},
   "source": [
    "**Kesimpulan Sementara**\n",
    "\n",
    "Rata-Rata Perjalanan yang Berakhir di Setiap Wilayah pada Bulan November 2017 adalah:\n",
    "\n",
    "1.  Loop\n",
    "2.  River North\n",
    "3.  Streeterville\n",
    "4.  West Loop\n",
    "5.  O'Hare\n",
    "6.  Lake View\n",
    "7.  Grant Park\n",
    "8.  Museum Campus\n",
    "9.  Gold Coast\n",
    "10. Sheffield & Depaul"
   ]
  },
  {
   "cell_type": "markdown",
   "metadata": {},
   "source": [
    "# **2.2. Menguji hipotesis (Python) dengan memuat dataset: /datasets/project_sql_result_07.csv**"
   ]
  },
  {
   "cell_type": "markdown",
   "metadata": {},
   "source": [
    "`/datasets/project_sql_result_07` merupakan hasil dari kueri terakhir yang bervariable yaitu hypothesis . File ini memuat data perjalanan dari Loop ke Bandara Internasional O'Hare."
   ]
  },
  {
   "cell_type": "markdown",
   "metadata": {},
   "source": [
    "# **2.2.1 Mempelajari Isi Data (khusus untuk data hypothesis)**"
   ]
  },
  {
   "cell_type": "code",
   "execution_count": 20,
   "metadata": {},
   "outputs": [
    {
     "data": {
      "text/html": [
       "<div>\n",
       "<style scoped>\n",
       "    .dataframe tbody tr th:only-of-type {\n",
       "        vertical-align: middle;\n",
       "    }\n",
       "\n",
       "    .dataframe tbody tr th {\n",
       "        vertical-align: top;\n",
       "    }\n",
       "\n",
       "    .dataframe thead th {\n",
       "        text-align: right;\n",
       "    }\n",
       "</style>\n",
       "<table border=\"1\" class=\"dataframe\">\n",
       "  <thead>\n",
       "    <tr style=\"text-align: right;\">\n",
       "      <th></th>\n",
       "      <th>start_ts</th>\n",
       "      <th>weather_conditions</th>\n",
       "      <th>duration_seconds</th>\n",
       "    </tr>\n",
       "  </thead>\n",
       "  <tbody>\n",
       "    <tr>\n",
       "      <th>0</th>\n",
       "      <td>2017-11-25 16:00:00</td>\n",
       "      <td>Good</td>\n",
       "      <td>2410</td>\n",
       "    </tr>\n",
       "    <tr>\n",
       "      <th>1</th>\n",
       "      <td>2017-11-25 14:00:00</td>\n",
       "      <td>Good</td>\n",
       "      <td>1920</td>\n",
       "    </tr>\n",
       "    <tr>\n",
       "      <th>2</th>\n",
       "      <td>2017-11-25 12:00:00</td>\n",
       "      <td>Good</td>\n",
       "      <td>1543</td>\n",
       "    </tr>\n",
       "    <tr>\n",
       "      <th>3</th>\n",
       "      <td>2017-11-04 10:00:00</td>\n",
       "      <td>Good</td>\n",
       "      <td>2512</td>\n",
       "    </tr>\n",
       "    <tr>\n",
       "      <th>4</th>\n",
       "      <td>2017-11-11 07:00:00</td>\n",
       "      <td>Good</td>\n",
       "      <td>1440</td>\n",
       "    </tr>\n",
       "  </tbody>\n",
       "</table>\n",
       "</div>"
      ],
      "text/plain": [
       "             start_ts weather_conditions  duration_seconds\n",
       "0 2017-11-25 16:00:00               Good              2410\n",
       "1 2017-11-25 14:00:00               Good              1920\n",
       "2 2017-11-25 12:00:00               Good              1543\n",
       "3 2017-11-04 10:00:00               Good              2512\n",
       "4 2017-11-11 07:00:00               Good              1440"
      ]
     },
     "execution_count": 20,
     "metadata": {},
     "output_type": "execute_result"
    }
   ],
   "source": [
    "#Memeriksa informasi dari Dataset\n",
    "predictive_analytics.head()"
   ]
  },
  {
   "cell_type": "markdown",
   "metadata": {},
   "source": [
    "**Temuan**\n",
    "\n",
    "Kita mungkin akan mengubah dengan tipe data yang sesuai, melihat isi dataset tersebut. Di dalam dataset ini deskripsi tersebut untuk hypothesis yaitu:\n",
    "\n",
    "**start_ts -- tanggal dan waktu penjemputan**\n",
    "\n",
    "**weather_conditions -- kondisi cuaca saat perjalanan dimulai**\n",
    "\n",
    "**duration_seconds -- durasi perjalanan dalam satuan detik**"
   ]
  },
  {
   "cell_type": "markdown",
   "metadata": {},
   "source": [
    "**Memastikan Tipe Data Sudah Benar (khusus untuk data hypothesis)**"
   ]
  },
  {
   "cell_type": "code",
   "execution_count": 21,
   "metadata": {},
   "outputs": [
    {
     "name": "stdout",
     "output_type": "stream",
     "text": [
      "<class 'pandas.core.frame.DataFrame'>\n",
      "RangeIndex: 1068 entries, 0 to 1067\n",
      "Data columns (total 3 columns):\n",
      " #   Column              Non-Null Count  Dtype         \n",
      "---  ------              --------------  -----         \n",
      " 0   start_ts            1068 non-null   datetime64[ns]\n",
      " 1   weather_conditions  1068 non-null   object        \n",
      " 2   duration_seconds    1068 non-null   int16         \n",
      "dtypes: datetime64[ns](1), int16(1), object(1)\n",
      "memory usage: 18.9+ KB\n"
     ]
    }
   ],
   "source": [
    "# Menampilkan informasi hasil project_sql_result_07\n",
    "predictive_analytics.info()"
   ]
  },
  {
   "cell_type": "markdown",
   "metadata": {},
   "source": [
    "**Temuan Sementara**\n",
    "\n",
    "Kita akan mengubah tipe data untuk kolom start_ts dan duration_seconds sebagai tipe data yang sesuai. Selain itu tidak ada data yang hilang untuk dataset tersebut."
   ]
  },
  {
   "cell_type": "code",
   "execution_count": 22,
   "metadata": {},
   "outputs": [
    {
     "name": "stdout",
     "output_type": "stream",
     "text": [
      "<class 'pandas.core.frame.DataFrame'>\n",
      "RangeIndex: 1068 entries, 0 to 1067\n",
      "Data columns (total 3 columns):\n",
      " #   Column              Non-Null Count  Dtype         \n",
      "---  ------              --------------  -----         \n",
      " 0   start_ts            1068 non-null   datetime64[ns]\n",
      " 1   weather_conditions  1068 non-null   object        \n",
      " 2   duration_seconds    1068 non-null   int16         \n",
      "dtypes: datetime64[ns](1), int16(1), object(1)\n",
      "memory usage: 18.9+ KB\n"
     ]
    }
   ],
   "source": [
    "# Menampilkan informasi dataset project_sql_result_07 dengan data yang telah diubah\n",
    "predictive_analytics.info()"
   ]
  },
  {
   "cell_type": "code",
   "execution_count": 23,
   "metadata": {},
   "outputs": [
    {
     "data": {
      "text/html": [
       "<div>\n",
       "<style scoped>\n",
       "    .dataframe tbody tr th:only-of-type {\n",
       "        vertical-align: middle;\n",
       "    }\n",
       "\n",
       "    .dataframe tbody tr th {\n",
       "        vertical-align: top;\n",
       "    }\n",
       "\n",
       "    .dataframe thead th {\n",
       "        text-align: right;\n",
       "    }\n",
       "</style>\n",
       "<table border=\"1\" class=\"dataframe\">\n",
       "  <thead>\n",
       "    <tr style=\"text-align: right;\">\n",
       "      <th></th>\n",
       "      <th>start_ts</th>\n",
       "      <th>weather_conditions</th>\n",
       "      <th>duration_seconds</th>\n",
       "    </tr>\n",
       "  </thead>\n",
       "  <tbody>\n",
       "    <tr>\n",
       "      <th>0</th>\n",
       "      <td>2017-11-25 16:00:00</td>\n",
       "      <td>Good</td>\n",
       "      <td>2410</td>\n",
       "    </tr>\n",
       "    <tr>\n",
       "      <th>1</th>\n",
       "      <td>2017-11-25 14:00:00</td>\n",
       "      <td>Good</td>\n",
       "      <td>1920</td>\n",
       "    </tr>\n",
       "    <tr>\n",
       "      <th>2</th>\n",
       "      <td>2017-11-25 12:00:00</td>\n",
       "      <td>Good</td>\n",
       "      <td>1543</td>\n",
       "    </tr>\n",
       "    <tr>\n",
       "      <th>3</th>\n",
       "      <td>2017-11-04 10:00:00</td>\n",
       "      <td>Good</td>\n",
       "      <td>2512</td>\n",
       "    </tr>\n",
       "    <tr>\n",
       "      <th>4</th>\n",
       "      <td>2017-11-11 07:00:00</td>\n",
       "      <td>Good</td>\n",
       "      <td>1440</td>\n",
       "    </tr>\n",
       "    <tr>\n",
       "      <th>5</th>\n",
       "      <td>2017-11-11 04:00:00</td>\n",
       "      <td>Good</td>\n",
       "      <td>1320</td>\n",
       "    </tr>\n",
       "    <tr>\n",
       "      <th>6</th>\n",
       "      <td>2017-11-04 16:00:00</td>\n",
       "      <td>Bad</td>\n",
       "      <td>2969</td>\n",
       "    </tr>\n",
       "    <tr>\n",
       "      <th>7</th>\n",
       "      <td>2017-11-18 11:00:00</td>\n",
       "      <td>Good</td>\n",
       "      <td>2280</td>\n",
       "    </tr>\n",
       "    <tr>\n",
       "      <th>8</th>\n",
       "      <td>2017-11-11 14:00:00</td>\n",
       "      <td>Good</td>\n",
       "      <td>2460</td>\n",
       "    </tr>\n",
       "    <tr>\n",
       "      <th>9</th>\n",
       "      <td>2017-11-11 12:00:00</td>\n",
       "      <td>Good</td>\n",
       "      <td>2040</td>\n",
       "    </tr>\n",
       "  </tbody>\n",
       "</table>\n",
       "</div>"
      ],
      "text/plain": [
       "             start_ts weather_conditions  duration_seconds\n",
       "0 2017-11-25 16:00:00               Good              2410\n",
       "1 2017-11-25 14:00:00               Good              1920\n",
       "2 2017-11-25 12:00:00               Good              1543\n",
       "3 2017-11-04 10:00:00               Good              2512\n",
       "4 2017-11-11 07:00:00               Good              1440\n",
       "5 2017-11-11 04:00:00               Good              1320\n",
       "6 2017-11-04 16:00:00                Bad              2969\n",
       "7 2017-11-18 11:00:00               Good              2280\n",
       "8 2017-11-11 14:00:00               Good              2460\n",
       "9 2017-11-11 12:00:00               Good              2040"
      ]
     },
     "execution_count": 23,
     "metadata": {},
     "output_type": "execute_result"
    }
   ],
   "source": [
    "# Menampilkan informasi yang telah dirubah tipe data nya\n",
    "predictive_analytics.head(10)"
   ]
  },
  {
   "cell_type": "markdown",
   "metadata": {},
   "source": [
    "* Saatnya kita uji hypothesis dataset diatas yang sudah diperbaiki"
   ]
  },
  {
   "cell_type": "code",
   "execution_count": 24,
   "metadata": {},
   "outputs": [
    {
     "name": "stdout",
     "output_type": "stream",
     "text": [
      "<class 'pandas.core.frame.DataFrame'>\n",
      "RangeIndex: 1068 entries, 0 to 1067\n",
      "Data columns (total 3 columns):\n",
      " #   Column              Non-Null Count  Dtype         \n",
      "---  ------              --------------  -----         \n",
      " 0   start_ts            1068 non-null   datetime64[ns]\n",
      " 1   weather_conditions  1068 non-null   object        \n",
      " 2   duration_seconds    1068 non-null   int16         \n",
      "dtypes: datetime64[ns](1), int16(1), object(1)\n",
      "memory usage: 18.9+ KB\n"
     ]
    }
   ],
   "source": [
    "# Merubah tipe data kolom start_ts\n",
    "predictive_analytics['start_ts'] = pd.to_datetime(predictive_analytics['start_ts'])\n",
    "predictive_analytics.info()"
   ]
  },
  {
   "cell_type": "code",
   "execution_count": 25,
   "metadata": {},
   "outputs": [
    {
     "data": {
      "text/plain": [
       "array([5])"
      ]
     },
     "execution_count": 25,
     "metadata": {},
     "output_type": "execute_result"
    }
   ],
   "source": [
    "# Memastikan semua dataset project_sql_result_07 adalah hari Sabtu semua\n",
    "# Ternyata semua data kita adalah hari sabtu (The day of the week with Monday=0, Sunday=6.)\n",
    "predictive_analytics['start_ts'].dt.weekday.unique()"
   ]
  },
  {
   "cell_type": "code",
   "execution_count": 26,
   "metadata": {},
   "outputs": [
    {
     "data": {
      "image/png": "[encoded data removed]",
      "text/plain": [
       "<Figure size 640x480 with 1 Axes>"
      ]
     },
     "metadata": {},
     "output_type": "display_data"
    }
   ],
   "source": [
    "# Cek distribusi dari durasi saat cuaca baik dan buruk\n",
    "plt.title('Distribusi Dari Durasi Saat Cuaca Baik Dan Buruk')\n",
    "sns.violinplot(data=predictive_analytics, x='duration_seconds', y='weather_conditions')\n",
    "plt.show()"
   ]
  },
  {
   "cell_type": "markdown",
   "metadata": {},
   "source": [
    "**Temuan Sementara**\n",
    "\n",
    "Kalau kita lihat disini distribusi datanya berbeda, keterpusatan median datanya kalau cuaca baik cenderung kekiri dan kalau cuaca buruk cenderung ke kanan. Artinya cuaca baik cenderung durasinya lebih cepat, sedangkan cuaca buruk durasinya lebih lama. "
   ]
  },
  {
   "cell_type": "markdown",
   "metadata": {},
   "source": [
    "# **2.2.2 Menguji H0 & H1 untuk Dataset predictive_analytics (Hypothesis data)**\n",
    "\n",
    "Uji hipotesis berikut: \"Durasi rata-rata perjalanan dari Loop ke Bandara Internasional O'Hare berubah saat hujan di hari Sabtu.\"\n",
    "\n",
    "Yang berarti:\n",
    "\n",
    "<span style=\"color:green\">Alpha yang ditentukan yaitu 5% atau 0.05</span>.\n",
    "\n",
    "<span style=\"color:blue\">H0 = \"Durasi rata-rata perjalanan dari Loop ke Bandara Internasional O'Hare TIDAK SAMA saat hujan di hari Sabtu.\"</span>.\n",
    "\n",
    "<span style=\"color:red\">H1 = \"Durasi rata-rata perjalanan dari Loop ke Bandara Internasional O'Hare SAMA saat hujan di hari Sabtu.\"</span>.\n",
    "\n"
   ]
  },
  {
   "cell_type": "code",
   "execution_count": 27,
   "metadata": {},
   "outputs": [
    {
     "data": {
      "text/html": [
       "<div>\n",
       "<style scoped>\n",
       "    .dataframe tbody tr th:only-of-type {\n",
       "        vertical-align: middle;\n",
       "    }\n",
       "\n",
       "    .dataframe tbody tr th {\n",
       "        vertical-align: top;\n",
       "    }\n",
       "\n",
       "    .dataframe thead th {\n",
       "        text-align: right;\n",
       "    }\n",
       "</style>\n",
       "<table border=\"1\" class=\"dataframe\">\n",
       "  <thead>\n",
       "    <tr style=\"text-align: right;\">\n",
       "      <th></th>\n",
       "      <th>start_ts</th>\n",
       "      <th>weather_conditions</th>\n",
       "      <th>duration_seconds</th>\n",
       "    </tr>\n",
       "  </thead>\n",
       "  <tbody>\n",
       "    <tr>\n",
       "      <th>0</th>\n",
       "      <td>2017-11-25 16:00:00</td>\n",
       "      <td>Good</td>\n",
       "      <td>2410</td>\n",
       "    </tr>\n",
       "    <tr>\n",
       "      <th>1</th>\n",
       "      <td>2017-11-25 14:00:00</td>\n",
       "      <td>Good</td>\n",
       "      <td>1920</td>\n",
       "    </tr>\n",
       "    <tr>\n",
       "      <th>2</th>\n",
       "      <td>2017-11-25 12:00:00</td>\n",
       "      <td>Good</td>\n",
       "      <td>1543</td>\n",
       "    </tr>\n",
       "    <tr>\n",
       "      <th>3</th>\n",
       "      <td>2017-11-04 10:00:00</td>\n",
       "      <td>Good</td>\n",
       "      <td>2512</td>\n",
       "    </tr>\n",
       "    <tr>\n",
       "      <th>4</th>\n",
       "      <td>2017-11-11 07:00:00</td>\n",
       "      <td>Good</td>\n",
       "      <td>1440</td>\n",
       "    </tr>\n",
       "    <tr>\n",
       "      <th>5</th>\n",
       "      <td>2017-11-11 04:00:00</td>\n",
       "      <td>Good</td>\n",
       "      <td>1320</td>\n",
       "    </tr>\n",
       "    <tr>\n",
       "      <th>6</th>\n",
       "      <td>2017-11-04 16:00:00</td>\n",
       "      <td>Bad</td>\n",
       "      <td>2969</td>\n",
       "    </tr>\n",
       "    <tr>\n",
       "      <th>7</th>\n",
       "      <td>2017-11-18 11:00:00</td>\n",
       "      <td>Good</td>\n",
       "      <td>2280</td>\n",
       "    </tr>\n",
       "    <tr>\n",
       "      <th>8</th>\n",
       "      <td>2017-11-11 14:00:00</td>\n",
       "      <td>Good</td>\n",
       "      <td>2460</td>\n",
       "    </tr>\n",
       "    <tr>\n",
       "      <th>9</th>\n",
       "      <td>2017-11-11 12:00:00</td>\n",
       "      <td>Good</td>\n",
       "      <td>2040</td>\n",
       "    </tr>\n",
       "  </tbody>\n",
       "</table>\n",
       "</div>"
      ],
      "text/plain": [
       "             start_ts weather_conditions  duration_seconds\n",
       "0 2017-11-25 16:00:00               Good              2410\n",
       "1 2017-11-25 14:00:00               Good              1920\n",
       "2 2017-11-25 12:00:00               Good              1543\n",
       "3 2017-11-04 10:00:00               Good              2512\n",
       "4 2017-11-11 07:00:00               Good              1440\n",
       "5 2017-11-11 04:00:00               Good              1320\n",
       "6 2017-11-04 16:00:00                Bad              2969\n",
       "7 2017-11-18 11:00:00               Good              2280\n",
       "8 2017-11-11 14:00:00               Good              2460\n",
       "9 2017-11-11 12:00:00               Good              2040"
      ]
     },
     "execution_count": 27,
     "metadata": {},
     "output_type": "execute_result"
    }
   ],
   "source": [
    "# Menampilkan dataset hypothesis\n",
    "predictive_analytics.head(10)"
   ]
  },
  {
   "cell_type": "code",
   "execution_count": 28,
   "metadata": {},
   "outputs": [
    {
     "data": {
      "text/html": [
       "<div>\n",
       "<style scoped>\n",
       "    .dataframe tbody tr th:only-of-type {\n",
       "        vertical-align: middle;\n",
       "    }\n",
       "\n",
       "    .dataframe tbody tr th {\n",
       "        vertical-align: top;\n",
       "    }\n",
       "\n",
       "    .dataframe thead th {\n",
       "        text-align: right;\n",
       "    }\n",
       "</style>\n",
       "<table border=\"1\" class=\"dataframe\">\n",
       "  <thead>\n",
       "    <tr style=\"text-align: right;\">\n",
       "      <th></th>\n",
       "      <th>weather_conditions</th>\n",
       "      <th>duration_seconds</th>\n",
       "    </tr>\n",
       "  </thead>\n",
       "  <tbody>\n",
       "    <tr>\n",
       "      <th>0</th>\n",
       "      <td>Bad</td>\n",
       "      <td>2427.205556</td>\n",
       "    </tr>\n",
       "    <tr>\n",
       "      <th>1</th>\n",
       "      <td>Good</td>\n",
       "      <td>1999.675676</td>\n",
       "    </tr>\n",
       "  </tbody>\n",
       "</table>\n",
       "</div>"
      ],
      "text/plain": [
       "  weather_conditions  duration_seconds\n",
       "0                Bad       2427.205556\n",
       "1               Good       1999.675676"
      ]
     },
     "execution_count": 28,
     "metadata": {},
     "output_type": "execute_result"
    }
   ],
   "source": [
    "# mempersiapkan perhitungan data varians\n",
    "# hitung rata-rata pada dataset\n",
    "avg_predictive_analytics = pd.pivot_table(predictive_analytics, index='weather_conditions',  values='duration_seconds', aggfunc='mean').reset_index()\n",
    "avg_predictive_analytics"
   ]
  },
  {
   "cell_type": "code",
   "execution_count": 29,
   "metadata": {
    "scrolled": true
   },
   "outputs": [
    {
     "data": {
      "image/png": "[encoded data removed]",
      "text/plain": [
       "<Figure size 800x600 with 1 Axes>"
      ]
     },
     "metadata": {},
     "output_type": "display_data"
    }
   ],
   "source": [
    "# Data agregat (data asli)\n",
    "avg_predictive_analytics = pd.pivot_table(predictive_analytics, index='weather_conditions', values='duration_seconds', aggfunc='mean').reset_index()\n",
    "\n",
    "# Buat boxplot dengan Seaborn\n",
    "plt.figure(figsize=(8, 6))\n",
    "sns.boxplot(x='weather_conditions', y='duration_seconds', data=predictive_analytics, palette='coolwarm')\n",
    "\n",
    "# Tambahkan judul dan label sumbu\n",
    "plt.title(\"Boxplot Durasi Perjalanan berdasarkan Kondisi Cuaca\")\n",
    "plt.xlabel(\"Kondisi Cuaca\")\n",
    "plt.ylabel(\"Durasi Perjalanan (detik)\")\n",
    "\n",
    "plt.show()"
   ]
  },
  {
   "cell_type": "markdown",
   "metadata": {},
   "source": [
    "**Kesimpulan Sementara**\n",
    "\n",
    "Terlihat bahwa nilai Good memiliki data yang condong ke kanan dan memilki banyak nilai outliers. Sedangkan nilai Bad berada di sekitar interquartile range yang mengindikasikan bahwa banyak data yang terdistribusi di dalam visualisasi boxplot tersebut."
   ]
  },
  {
   "cell_type": "code",
   "execution_count": 30,
   "metadata": {},
   "outputs": [],
   "source": [
    "# Melakukan penghapusan outliers\n",
    "Q1 = predictive_analytics['duration_seconds'].quantile(0.25)\n",
    "Q3 = predictive_analytics['duration_seconds'].quantile(0.75)\n",
    "IQR = Q3 - Q1\n",
    "\n",
    "lower_bound = Q1 - 1.5 * IQR\n",
    "upper_bound = Q3 + 1.5 * IQR\n",
    "\n",
    "# Hapus outliers\n",
    "predictive_analytics_no_outliers = predictive_analytics[(predictive_analytics['duration_seconds'] >= lower_bound) & (predictive_analytics['duration_seconds'] <= upper_bound)]"
   ]
  },
  {
   "cell_type": "code",
   "execution_count": 31,
   "metadata": {},
   "outputs": [
    {
     "data": {
      "text/html": [
       "<div>\n",
       "<style scoped>\n",
       "    .dataframe tbody tr th:only-of-type {\n",
       "        vertical-align: middle;\n",
       "    }\n",
       "\n",
       "    .dataframe tbody tr th {\n",
       "        vertical-align: top;\n",
       "    }\n",
       "\n",
       "    .dataframe thead th {\n",
       "        text-align: right;\n",
       "    }\n",
       "</style>\n",
       "<table border=\"1\" class=\"dataframe\">\n",
       "  <thead>\n",
       "    <tr style=\"text-align: right;\">\n",
       "      <th></th>\n",
       "      <th>weather_conditions</th>\n",
       "      <th>duration_seconds</th>\n",
       "    </tr>\n",
       "  </thead>\n",
       "  <tbody>\n",
       "    <tr>\n",
       "      <th>0</th>\n",
       "      <td>Bad</td>\n",
       "      <td>2412.944134</td>\n",
       "    </tr>\n",
       "    <tr>\n",
       "      <th>1</th>\n",
       "      <td>Good</td>\n",
       "      <td>1979.266138</td>\n",
       "    </tr>\n",
       "  </tbody>\n",
       "</table>\n",
       "</div>"
      ],
      "text/plain": [
       "  weather_conditions  duration_seconds\n",
       "0                Bad       2412.944134\n",
       "1               Good       1979.266138"
      ]
     },
     "execution_count": 31,
     "metadata": {},
     "output_type": "execute_result"
    }
   ],
   "source": [
    "# Agregasi tanpa outliers\n",
    "predictive_analytics_no_outliers_avg = pd.pivot_table(predictive_analytics_no_outliers, index='weather_conditions', values='duration_seconds', aggfunc='mean').reset_index()\n",
    "predictive_analytics_no_outliers_avg"
   ]
  },
  {
   "cell_type": "markdown",
   "metadata": {},
   "source": [
    "* Bisa kita lihat, perubahan data tidak begitu signifikan. Namun kita akan tetap lakukan dengan menggunakan data yang tidak ada outliers nya untuk menguji hypothesis."
   ]
  },
  {
   "cell_type": "code",
   "execution_count": 32,
   "metadata": {},
   "outputs": [
    {
     "data": {
      "image/png": "[encoded data removed]",
      "text/plain": [
       "<Figure size 800x600 with 1 Axes>"
      ]
     },
     "metadata": {},
     "output_type": "display_data"
    }
   ],
   "source": [
    "# Data agregat tanpa outliers\n",
    "predictive_analytics_no_outliers_avg = pd.pivot_table(predictive_analytics_no_outliers, index='weather_conditions', values='duration_seconds', aggfunc='mean').reset_index()\n",
    "# Buat boxplot dengan Seaborn\n",
    "plt.figure(figsize=(8, 6))\n",
    "sns.boxplot(x='weather_conditions', y='duration_seconds', data=predictive_analytics_no_outliers, palette='coolwarm', showfliers=False)\n",
    "\n",
    "# Tambahkan judul dan label sumbu\n",
    "plt.title(\"Boxplot Durasi Perjalanan berdasarkan Kondisi Cuaca\")\n",
    "plt.xlabel(\"Kondisi Cuaca\")\n",
    "plt.ylabel(\"Durasi Perjalanan (detik)\")\n",
    "\n",
    "plt.show()"
   ]
  },
  {
   "cell_type": "markdown",
   "metadata": {},
   "source": [
    "* Di sini kita akan menghapus outliers yang terdapat pada visualisasi boxplot yang sudah kita tampilkan. Hal ini bertujuan agar perhitungan uji testing hypothesis lebih akurat."
   ]
  },
  {
   "cell_type": "markdown",
   "metadata": {},
   "source": [
    "<span style=\"color:green\">Alpha yang ditentukan yaitu 5% atau 0.05</span>.\n",
    "\n",
    "<span style=\"color:blue\">H0 = \"Durasi rata-rata perjalanan dari Loop ke Bandara Internasional O'Hare TIDAK BERUBAH saat hujan di hari Sabtu.\"</span>.\n",
    "\n",
    "<span style=\"color:red\">H1 = \"Durasi rata-rata perjalanan dari Loop ke Bandara Internasional O'Hare BERUBAH saat hujan di hari Sabtu.\"</span>."
   ]
  },
  {
   "cell_type": "code",
   "execution_count": 33,
   "metadata": {},
   "outputs": [
    {
     "name": "stdout",
     "output_type": "stream",
     "text": [
      "Statistic: 0.24647542861629418\n",
      "P-Value (Levene): 0.6196707782686355\n",
      "Menerima H0\n"
     ]
    }
   ],
   "source": [
    "# Memisahkan data menjadi dua bagian yaitu : \"Bad\" dan \"Good\"\n",
    "bad_data = predictive_analytics_no_outliers[predictive_analytics_no_outliers['weather_conditions'] == 'Bad']['duration_seconds']\n",
    "good_data = predictive_analytics_no_outliers[predictive_analytics_no_outliers['weather_conditions'] == 'Good']['duration_seconds']\n",
    "\n",
    "# Lakukan uji Levene\n",
    "statistic, p_value_levene = levene(bad_data, good_data)\n",
    "\n",
    "# Cetak hasil uji Levene\n",
    "print(\"Statistic:\", statistic)\n",
    "print(\"P-Value (Levene):\", p_value_levene)\n",
    "\n",
    "alpha = 0.05\n",
    "\n",
    "if p_value_levene < alpha:\n",
    "    print('Menerima H1')\n",
    "else:\n",
    "    print('Menerima H0')"
   ]
  },
  {
   "cell_type": "markdown",
   "metadata": {},
   "source": [
    "* Setelah itu kita akan melakukan ttest_ind dengan set parameter equal_var dr hasil levene test, jika varians sama maka set True, dan sebaliknya."
   ]
  },
  {
   "cell_type": "code",
   "execution_count": 34,
   "metadata": {},
   "outputs": [
    {
     "name": "stdout",
     "output_type": "stream",
     "text": [
      "Levene Statistic: 0.24647542861629418\n",
      "P-Value (Levene): 0.6196707782686355\n",
      "T-Statistic (Equal Variance): 7.5110122934882755\n",
      "P-Value (T-Test): 1.2430038032744411e-13\n",
      "Menerima H0: Durasi rata-rata perjalanan dari Loop ke Bandara Internasional O'Hare TIDAK BERUBAH saat hujan di hari Sabtu.\n"
     ]
    }
   ],
   "source": [
    "# Lakukan uji Levene\n",
    "statistic_levene, p_value_levene = stats.levene(bad_data, good_data)\n",
    "\n",
    "# Cetak hasil uji Levene\n",
    "print(\"Levene Statistic:\", statistic_levene)\n",
    "print(\"P-Value (Levene):\", p_value_levene)\n",
    "\n",
    "# Tentukan tingkat signifikansi (alpha) untuk uji t-test\n",
    "alpha = 0.05\n",
    "\n",
    "# Lakukan uji t-test independen dengan parameter equal_var yang disesuaikan\n",
    "if p_value_levene < alpha:\n",
    "    t_statistic, p_value_ttest = stats.ttest_ind(bad_data, good_data, equal_var=False)\n",
    "    print(\"T-Statistic (Unequal Variance):\", t_statistic)\n",
    "    print(\"P-Value (T-Test):\", p_value_ttest)\n",
    "    print(\"Menerima H1: Durasi rata-rata perjalanan dari Loop ke Bandara Internasional O'Hare BERUBAH saat hujan di hari Sabtu.\")\n",
    "else:\n",
    "    t_statistic, p_value_ttest = stats.ttest_ind(bad_data, good_data, equal_var=True)\n",
    "    print(\"T-Statistic (Equal Variance):\", t_statistic)\n",
    "    print(\"P-Value (T-Test):\", p_value_ttest)\n",
    "    print(\"Menerima H0: Durasi rata-rata perjalanan dari Loop ke Bandara Internasional O'Hare TIDAK BERUBAH saat hujan di hari Sabtu.\")"
   ]
  },
  {
   "cell_type": "markdown",
   "metadata": {},
   "source": [
    "**Kesimpulan Sementara**\n",
    "\n",
    "Hypothesis menerima H0"
   ]
  },
  {
   "cell_type": "markdown",
   "metadata": {},
   "source": [
    "# **3. Kesimpulan Umum**\n",
    "\n",
    "* Untuk saat ini tidak ditemukan nilai yang kosong. Seluruh data benar-benar utuh.\n",
    "* Tipe data bisa saja sudah sesuai. Kita harus analisa lebih lanjut.\n",
    "* Jumlah Perjalanan pada tanggal 15-16 November 2017 di 10 teratas adalah:\n",
    "  1. Flash Cab\n",
    "  2. Taxi Affiliation Services\n",
    "  3. Medallion Leasing\n",
    "  4. Yellow Cab\n",
    "  5. Taxi Affiliation Service Yellow\n",
    "  6. Chicago Carriage Cab Corp\n",
    "  7. City Service\n",
    "  8. Sun Taxi\n",
    "  9. Star North Management LLC\n",
    " 10. Blue Ribbon Taxi Association Inc.\n",
    "\n",
    "* Rata-Rata Perjalanan yang Berakhir di Setiap Wilayah pada Bulan November 2017 adalah:\n",
    "  1. Loop\n",
    "  2. River North\n",
    "  3. Streeterville\n",
    "  4. West Loop\n",
    "  5. O'Hare\n",
    "  6. Lake View\n",
    "  7. Grant Park\n",
    "  8. Museum Campus\n",
    "  9. Gold Coast\n",
    " 10. Sheffield & Depaul\n",
    " \n",
    "* Terlihat bahwa nilai Good memiliki data yang condong ke kanan dan memilki banyak nilai outliers. Sedangkan nilai Bad berada di sekitar interquartile range yang mengindikasikan bahwa banyak data yang terdistribusi di dalam visualisasi boxplot tersebut.\n",
    "\n",
    "* Hypothesis menerima H0"
   ]
  }
 ],
 "metadata": {
  "ExecuteTimeLog": [
   {
    "duration": 5336,
    "start_time": "2024-07-18T14:38:44.494Z"
   },
   {
    "duration": 49,
    "start_time": "2024-07-18T14:38:49.836Z"
   },
   {
    "duration": 15,
    "start_time": "2024-07-18T14:38:49.888Z"
   },
   {
    "duration": 15,
    "start_time": "2024-07-18T14:38:49.908Z"
   },
   {
    "duration": 12,
    "start_time": "2024-07-18T14:38:49.926Z"
   },
   {
    "duration": 13,
    "start_time": "2024-07-18T14:38:49.941Z"
   },
   {
    "duration": 11,
    "start_time": "2024-07-18T14:38:49.957Z"
   },
   {
    "duration": 12,
    "start_time": "2024-07-18T14:38:49.972Z"
   },
   {
    "duration": 26,
    "start_time": "2024-07-18T14:38:50.017Z"
   },
   {
    "duration": 20,
    "start_time": "2024-07-18T14:38:50.049Z"
   },
   {
    "duration": 53,
    "start_time": "2024-07-18T14:38:50.075Z"
   },
   {
    "duration": 18,
    "start_time": "2024-07-18T14:38:50.136Z"
   },
   {
    "duration": 16,
    "start_time": "2024-07-18T14:38:50.162Z"
   },
   {
    "duration": 33,
    "start_time": "2024-07-18T14:38:50.182Z"
   },
   {
    "duration": 24,
    "start_time": "2024-07-18T14:38:50.227Z"
   },
   {
    "duration": 19,
    "start_time": "2024-07-18T14:38:50.253Z"
   },
   {
    "duration": 14,
    "start_time": "2024-07-18T14:38:50.274Z"
   },
   {
    "duration": 510,
    "start_time": "2024-07-18T14:38:50.291Z"
   },
   {
    "duration": 389,
    "start_time": "2024-07-18T14:38:50.804Z"
   },
   {
    "duration": 18,
    "start_time": "2024-07-18T14:38:51.197Z"
   },
   {
    "duration": 14,
    "start_time": "2024-07-18T14:38:51.218Z"
   },
   {
    "duration": 17,
    "start_time": "2024-07-18T14:38:51.235Z"
   },
   {
    "duration": 11,
    "start_time": "2024-07-18T14:38:51.254Z"
   },
   {
    "duration": 56,
    "start_time": "2024-07-18T14:38:51.269Z"
   },
   {
    "duration": 7,
    "start_time": "2024-07-18T14:38:51.328Z"
   },
   {
    "duration": 434,
    "start_time": "2024-07-18T14:38:51.337Z"
   },
   {
    "duration": 18,
    "start_time": "2024-07-18T14:38:51.775Z"
   },
   {
    "duration": 27,
    "start_time": "2024-07-18T14:38:51.817Z"
   },
   {
    "duration": 282,
    "start_time": "2024-07-18T14:38:51.848Z"
   },
   {
    "duration": 15,
    "start_time": "2024-07-18T14:38:52.133Z"
   },
   {
    "duration": 20,
    "start_time": "2024-07-18T14:38:52.151Z"
   },
   {
    "duration": 272,
    "start_time": "2024-07-18T14:38:52.175Z"
   },
   {
    "duration": 12,
    "start_time": "2024-07-18T14:38:52.451Z"
   },
   {
    "duration": 11,
    "start_time": "2024-07-18T14:38:52.466Z"
   }
  ],
  "kernelspec": {
   "display_name": "Python 3 (ipykernel)",
   "language": "python",
   "name": "python3"
  },
  "language_info": {
   "codemirror_mode": {
    "name": "ipython",
    "version": 3
   },
   "file_extension": ".py",
   "mimetype": "text/x-python",
   "name": "python",
   "nbconvert_exporter": "python",
   "pygments_lexer": "ipython3",
   "version": "3.9.19"
  },
  "toc": {
   "base_numbering": 1,
   "nav_menu": {},
   "number_sections": true,
   "sideBar": true,
   "skip_h1_title": true,
   "title_cell": "Table of Contents",
   "title_sidebar": "Contents",
   "toc_cell": false,
   "toc_position": {},
   "toc_section_display": true,
   "toc_window_display": false
  }
 },
 "nbformat": 4,
 "nbformat_minor": 2
}
